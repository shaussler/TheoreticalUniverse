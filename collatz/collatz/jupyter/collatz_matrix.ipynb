{
 "cells": [
  {
   "cell_type": "code",
   "execution_count": null,
   "id": "0cfe54c4-c3e9-4a60-80e7-6600dbc8ad4c",
   "metadata": {},
   "outputs": [],
   "source": [
    "import numpy as np"
   ]
  },
  {
   "cell_type": "markdown",
   "id": "a8d1aed6-5b26-41fc-aa80-f25fff58c156",
   "metadata": {},
   "source": [
    "# Create a vector"
   ]
  },
  {
   "cell_type": "code",
   "execution_count": null,
   "id": "1d63d51d-828e-48a1-b9e9-a7d9077e2f94",
   "metadata": {},
   "outputs": [],
   "source": [
    "nbits=8\n",
    "init_int=7\n",
    "init_bin=np.array([int(x) for x in format(init_int, '08b')])"
   ]
  },
  {
   "cell_type": "code",
   "execution_count": null,
   "id": "17463c06-90bf-4ba8-94a1-1c65c846f115",
   "metadata": {},
   "outputs": [],
   "source": [
    "init_bin"
   ]
  },
  {
   "cell_type": "markdown",
   "id": "18717e2e-bc16-49e8-8ad9-932a3dfc6b1b",
   "metadata": {},
   "source": [
    "# Create the shift lef operator"
   ]
  },
  {
   "cell_type": "code",
   "execution_count": null,
   "id": "1b67d569-c324-4a4d-99f7-498b8891e031",
   "metadata": {},
   "outputs": [],
   "source": [
    "SL = np.zeros((nbits, nbits))\n",
    "tmp = np.ones(nbits-1)\n",
    "np.fill_diagonal(SL[:,1:], 1)\n",
    "#np.fill_diagonal(SL[1:,:], 1)\n",
    "#np.fill_diagonal(SL, 1)\n",
    "SL\n"
   ]
  },
  {
   "cell_type": "code",
   "execution_count": null,
   "id": "c040408b-9b63-4d09-9907-a4549ee74e8d",
   "metadata": {},
   "outputs": [],
   "source": [
    "init_bin=init_bin.astype(bool)\n",
    "SL=SL.astype(bool)\n",
    "result=SL.dot(init_bin)"
   ]
  },
  {
   "cell_type": "code",
   "execution_count": null,
   "id": "a885b937-e5c2-4517-8198-3a3a5712ab28",
   "metadata": {},
   "outputs": [],
   "source": [
    "print(result)\n",
    "print(init_bin)"
   ]
  },
  {
   "cell_type": "code",
   "execution_count": null,
   "id": "fe7868b8-7035-4327-ac70-b71418f69773",
   "metadata": {},
   "outputs": [],
   "source": [
    "np.packbits(result)"
   ]
  },
  {
   "cell_type": "code",
   "execution_count": null,
   "id": "33dd0dc9-62c8-4c89-827c-f2c8924c8e09",
   "metadata": {},
   "outputs": [],
   "source": [
    "tmp = np.repeat(init_bin, nbits).reshape((nbits, nbits))\n",
    "\n",
    "tmp.astype(int)"
   ]
  },
  {
   "cell_type": "code",
   "execution_count": null,
   "id": "b29293c3-9aa8-4947-ba56-f102118200c1",
   "metadata": {},
   "outputs": [],
   "source": [
    "tmp.dot(init_bin)"
   ]
  },
  {
   "cell_type": "markdown",
   "id": "fe5bdee8-8522-4ede-8a71-857997f94491",
   "metadata": {},
   "source": [
    "The full odd machine\n",
    "---------------------\n",
    "\n",
    "$$\n",
    "C_{i+1} = A_{i} \\cdot A_{i+1} + (A_{i} + A_{i+1}) \\cdot C_{i}\n",
    "$$\n",
    "\n",
    "$$\n",
    "C=A+B \\cdot C \\\\\n",
    "C-B \\cdot C = A \\\\\n",
    "C(1-B)=A \\\\\n",
    "C= A/(1-B)\n",
    "$$\n"
   ]
  },
  {
   "cell_type": "code",
   "execution_count": null,
   "id": "197eda6b-dc6c-4589-9cdf-1fa83a1d1a1a",
   "metadata": {},
   "outputs": [],
   "source": [
    "np.array(False) / np.array(True)"
   ]
  },
  {
   "cell_type": "markdown",
   "id": "2b0c5a9f-4fb3-496d-a1a6-fb08ddca45b8",
   "metadata": {},
   "source": [
    "# Being wild\n",
    "\n",
    "$$\n",
    "r=(A_i \\cdot A_{i+1}) / (1 - (A_i + A_{i+1}))\n",
    "$$\n",
    "\n",
    "$$\n",
    "C_i=(A_i+A_{i+1})^n(C_0 -r )+r\n",
    "$$"
   ]
  },
  {
   "cell_type": "code",
   "execution_count": null,
   "id": "3a83baa3-f9b3-41c7-b0d8-83056ef024e1",
   "metadata": {},
   "outputs": [],
   "source": [
    "a=np.array([1,1,0,0]).astype(bool)\n",
    "b=np.array([1,0,1,0]).astype(bool)\n",
    "c=a+b\n",
    "print(f\"{a=}\")\n",
    "print(f\"{b=}\")\n",
    "print(f\"{c=}\")"
   ]
  },
  {
   "cell_type": "markdown",
   "id": "08c37767-1da1-4432-a24f-d16c933359de",
   "metadata": {},
   "source": [
    "# Suite arithmetico geometrique\n",
    "\n",
    "$$\n",
    "U_{n+1} = a u_n + b\n",
    "$$\n",
    "\n",
    "Result is:\n",
    "\n",
    "$$\n",
    "r=\\frac{b}{1-a}\n",
    "$$\n",
    "\n",
    "$$\n",
    "u_n=a^n (u_0 - r) + r\n",
    "$$"
   ]
  },
  {
   "cell_type": "code",
   "execution_count": null,
   "id": "ba78314a-863e-4d4a-9cbc-102031a23e5b",
   "metadata": {},
   "outputs": [],
   "source": []
  }
 ],
 "metadata": {
  "kernelspec": {
   "display_name": "Python 3 (ipykernel)",
   "language": "python",
   "name": "python3"
  },
  "language_info": {
   "codemirror_mode": {
    "name": "ipython",
    "version": 3
   },
   "file_extension": ".py",
   "mimetype": "text/x-python",
   "name": "python",
   "nbconvert_exporter": "python",
   "pygments_lexer": "ipython3",
   "version": "3.10.5"
  }
 },
 "nbformat": 4,
 "nbformat_minor": 5
}
