{
 "cells": [
  {
   "cell_type": "code",
   "execution_count": null,
   "id": "4f3cfa2c-ed3b-4011-8cdd-9d290d7b3c33",
   "metadata": {},
   "outputs": [],
   "source": [
    "import numpy as np\n",
    "import importlib\n",
    "import itertools\n",
    "import pynotes.collatz as collatz\n",
    "from termcolor import cprint\n",
    "importlib.reload(collatz)"
   ]
  },
  {
   "cell_type": "markdown",
   "id": "0411bf29-d465-406d-a524-5a54d97aa8d6",
   "metadata": {},
   "source": [
    "## Determine a collatz orbit"
   ]
  },
  {
   "cell_type": "code",
   "execution_count": null,
   "id": "43dccf54-ed75-47e9-8dc8-ba1745904d9f",
   "metadata": {},
   "outputs": [],
   "source": [
    "importlib.reload(collatz)\n",
    "bit_length=12\n",
    "method='shift'\n",
    "long_print=True\n",
    "\n",
    "num=7\n",
    "\n",
    "orbit_classic=collatz.orbit(\n",
    "    num,\n",
    "    bit_length=None,\n",
    "    method=None #'shift',\n",
    ")\n",
    "\n",
    "orbit_flush=collatz.orbit(\n",
    "    num,\n",
    "    bit_length=None,\n",
    "    method='flush' #'shift',\n",
    ")\n",
    "\n",
    "for integer in orbit_classic:\n",
    "    \n",
    "    if integer in orbit_flush:\n",
    "        cprint(f\"{integer:4d} {integer:4d}\", attrs=['bold'])\n",
    "    else:\n",
    "        cprint(f\"{integer:4d} {'-'.rjust(4)}\")\n",
    "   \n",
    "#print(collatz.int2bin(orbit, bit_length=bit_length))\n",
    "print(collatz.has_converged(orbit))\n",
    "print(f\"Orbit length: {len(orbit)}\")\n"
   ]
  },
  {
   "cell_type": "code",
   "execution_count": null,
   "id": "beaa311d-7bbd-452e-9247-902a8e4f650c",
   "metadata": {},
   "outputs": [],
   "source": [
    "bit_length=8\n",
    "method='flush'\n",
    "long_print=True"
   ]
  },
  {
   "cell_type": "code",
   "execution_count": null,
   "id": "0847c3ab-3e18-4d7f-a6e4-3e9e714278bc",
   "metadata": {},
   "outputs": [],
   "source": [
    "importlib.reload(collatz)\n",
    "\n",
    "fundamental_orbit=[]\n",
    "\n",
    "#for k in range(1, 16):\n",
    "#    if k == 1:\n",
    "#        fundamental_orbit.append(3)\n",
    "#    else:\n",
    "#        fundamental_orbit.append(collatz.col_next_flush(fundamental_orbit[-1]))\n",
    "\n",
    "#print(fundamental_orbit)\n",
    "print(collatz.col_previous_flush(13))"
   ]
  },
  {
   "cell_type": "code",
   "execution_count": null,
   "id": "75c005ee-e2c2-4908-b31c-eb8620c1ea3b",
   "metadata": {},
   "outputs": [],
   "source": [
    "importlib.reload(collatz)\n",
    "\n",
    "orbits=collatz.orbits(bit_length=bit_length, method=method, stop_at_bit_length=False)\n",
    "\n",
    "if long_print is True:\n",
    "    for orbit in orbits:\n",
    "        print(*orbit)"
   ]
  },
  {
   "cell_type": "code",
   "execution_count": null,
   "id": "510e6b1f-96d8-41ee-8650-4a49801a8c15",
   "metadata": {},
   "outputs": [],
   "source": [
    "importlib.reload(collatz)\n",
    "print(f\"Number of bits: {bit_length}\")\n",
    "\n",
    "# All unique elements from all orbits\n",
    "# -----------------------------------\n",
    "\n",
    "collatz_elements=sorted(list(set(list(itertools.chain(*orbits)))))\n",
    "\n",
    "# Get the elements less than the bit length\n",
    "# -----------------------------------------\n",
    "\n",
    "#collatz_elements=list(filter(lambda el: el < 256, collatz_elements))\n",
    "\n",
    "print(f\"Collatz elements {len(collatz_elements)}:\")\n",
    "if long_print is True:\n",
    "    print(*collatz_elements)\n",
    "    print(*collatz.int2bin(collatz_elements, bit_length=None))\n",
    "\n",
    "# All elements\n",
    "# ------------\n",
    "\n",
    "all_elements=list(range(1, 2**bit_length))\n",
    "\n",
    "print(f\"All elements {len(all_elements)}:\")\n",
    "if long_print is True:\n",
    "    print(*all_elements)\n",
    "    print(*collatz.int2bin(all_elements, bit_length=None))\n",
    "\n",
    "# Elements not belonging to an orbit\n",
    "# ----------------------------------\n",
    "\n",
    "non_collatz_elements = list(set(all_elements) - set(collatz_elements))\n",
    "print(f\"Elements not belonging to an orbit {len(non_collatz_elements)}:\")\n",
    "if long_print is True:\n",
    "    print(*non_collatz_elements)\n",
    "    print(*collatz.int2bin(non_collatz_elements, bit_length=bit_length))\n",
    "\n",
    "print(f\"{len(collatz_elements)/len(all_elements)=}\")\n",
    "print(f\"{len(non_collatz_elements)/len(all_elements)=}\")"
   ]
  },
  {
   "cell_type": "code",
   "execution_count": null,
   "id": "26fecf9e-2bb5-4704-b49b-ab8d0330711a",
   "metadata": {},
   "outputs": [],
   "source": [
    "for bit_length in range(2, 18, 1):\n",
    "\n",
    "    #print(f\"Number of bits: {bit_length}\")\n",
    "\n",
    "    orbits=collatz.orbits(bit_length=bit_length, method=method)\n",
    "    collatz_elements=list(set(list(itertools.chain(*orbits))))\n",
    "    all_elements=list(range(1, 2**bit_length))\n",
    "    non_collatz_elements = list(set(all_elements) - set(collatz_elements))\n",
    "\n",
    "    #print(f\"Collatz elements {len(collatz_elements)}:\")\n",
    "    #print(f\"All elements {len(all_elements)}:\")\n",
    "    #print(f\"Elements not belonging to an orbit {len(non_collatz_elements)}:\")\n",
    "    print(f\"{len(collatz_elements)/len(all_elements)=}\")\n",
    "    #print(f\"{len(non_collatz_elements)/len(all_elements)=}\")\n"
   ]
  },
  {
   "cell_type": "code",
   "execution_count": null,
   "id": "8f82cfb8-d3f1-44f9-af9d-d7fcc2647536",
   "metadata": {},
   "outputs": [],
   "source": [
    "importlib.reload(collatz)\n",
    "#collatz.int2bin(sequence, bit_length=8)"
   ]
  },
  {
   "cell_type": "code",
   "execution_count": null,
   "id": "3a58bba0-e609-4bb8-ae8d-9110821a5ad6",
   "metadata": {},
   "outputs": [],
   "source": [
    "bin(7)"
   ]
  },
  {
   "cell_type": "code",
   "execution_count": null,
   "id": "74ff20d9-aca2-4890-aeab-ef91cc83b4f6",
   "metadata": {},
   "outputs": [],
   "source": []
  }
 ],
 "metadata": {
  "kernelspec": {
   "display_name": "Python 3 (ipykernel)",
   "language": "python",
   "name": "python3"
  },
  "language_info": {
   "codemirror_mode": {
    "name": "ipython",
    "version": 3
   },
   "file_extension": ".py",
   "mimetype": "text/x-python",
   "name": "python",
   "nbconvert_exporter": "python",
   "pygments_lexer": "ipython3",
   "version": "3.10.5"
  }
 },
 "nbformat": 4,
 "nbformat_minor": 5
}
