{
 "cells": [
  {
   "cell_type": "code",
   "execution_count": null,
   "id": "12298e66-02ac-4bf5-ad13-0b2661ec87cc",
   "metadata": {},
   "outputs": [],
   "source": [
    "import numpy as np"
   ]
  },
  {
   "cell_type": "code",
   "execution_count": null,
   "id": "5668d6d5-444c-46bc-9600-98aaafb1278c",
   "metadata": {},
   "outputs": [],
   "source": [
    "F = np.array([[ '  0', '-Ex', '-Ey', '-Ez'],\n",
    "              [ '+Ex', '  0', '-Bz', '+By'],\n",
    "              [ '+Ey', '+Bz', '  0', '-Bx'],\n",
    "              [ '+Ez', '-By', '+Bx', '  0']])"
   ]
  },
  {
   "cell_type": "code",
   "execution_count": null,
   "id": "da8d3cd3-deda-4802-bc0d-4b0ded46a86c",
   "metadata": {},
   "outputs": [],
   "source": []
  },
  {
   "cell_type": "code",
   "execution_count": null,
   "id": "ce7b0896-4327-4862-a94b-0032a592f3c0",
   "metadata": {},
   "outputs": [],
   "source": [
    "import theoretical_python.mathjax3_config as mathjax3_config"
   ]
  },
  {
   "cell_type": "code",
   "execution_count": null,
   "id": "e4cb8e1f-2c51-4ed6-8a9f-497930b77b65",
   "metadata": {},
   "outputs": [],
   "source": [
    "import theoretical_python\n",
    "from latex2sympy2 import latex2sympy\n",
    "\n",
    "def custom(txt):\n",
    "    tex = theoretical_python.mathjax3_config().get('tex').get('macros')\n",
    "    for key in [r'Et', r'Ez']:\n",
    "        txt.replace(key, f'\\\\{tex[key]}')\n",
    "        print(\"Marker\", tex[key])\n",
    "    return txt\n",
    "\n",
    "print(custom(r'\\Et'))\n",
    "\n",
    "latex2sympy(r'''\n",
    "E^{t}\n",
    "''')\n",
    "\n",
    "matrix = r'''\n",
    "    \\begin{pmatrix}\n",
    "        1 & 2 & 3 \\\\ \n",
    "        4 & 5 & 6 \\\\\n",
    "        7 & 8 & 9 \\\\ \n",
    "    \\end{pmatrix}\n",
    "'''\n",
    "\n",
    "latex2sympy(matrix)"
   ]
  },
  {
   "cell_type": "code",
   "execution_count": null,
   "id": "226f9144-bb18-480b-81e8-76a5e607819d",
   "metadata": {},
   "outputs": [],
   "source": [
    "from latex2sympy2 import latex2sympy\n",
    "\n",
    "matrix = r'''\n",
    "    \\{\n",
    "        1 & 2 & 3 \\\\ \n",
    "        4 & 5 & 6 \\\\\n",
    "        7 & 8 & 9 \\\\ \n",
    "    \\end{pmatrix}\n",
    "'''\n",
    "\n",
    "matrix = matrix.replace(r'\\{', r'\\begin{pmatrix}')\n",
    "\n",
    "print(matrix)\n",
    "\n",
    "latex2sympy(matrix)"
   ]
  },
  {
   "cell_type": "code",
   "execution_count": null,
   "id": "f24d1a4b-ebc0-4a82-9b19-a95a15995636",
   "metadata": {},
   "outputs": [],
   "source": [
    "import latex2sympy2"
   ]
  },
  {
   "cell_type": "code",
   "execution_count": null,
   "id": "b51fde8a-5f89-4c52-a886-1fb78a34f7e5",
   "metadata": {},
   "outputs": [],
   "source": [
    "latex2sympy2.var({'i': I, 'j': I, '\\\\bm{I}_1': Matrix([[1]]), '\\\\bm{I}_2': Matrix([\n",
    "           [1, 0],\n",
    "           [0, 1]]), '\\\\bm{I}_3': <...> , 0, 0],\n",
    "           [0, 0, 0, 0, 0, 0, 1, 0, 0],\n",
    "           [0, 0, 0, 0, 0, 0, 0, 1, 0],\n",
    "           [0, 0, 0, 0, 0, 0, 0, 0, 1]])}b"
   ]
  },
  {
   "cell_type": "code",
   "execution_count": null,
   "id": "88be60d8-a693-4c66-9cec-160646964bc1",
   "metadata": {},
   "outputs": [],
   "source": [
    "latex2sympy2.var={'i', 'J'}\n",
    "latex2sympy2.latex2sympy('i')"
   ]
  },
  {
   "cell_type": "code",
   "execution_count": null,
   "id": "7e55a090-5850-4f28-b45a-cd6dcdc89a3f",
   "metadata": {},
   "outputs": [],
   "source": [
    "latex2sympy2."
   ]
  },
  {
   "cell_type": "code",
   "execution_count": null,
   "id": "820fcec4-d65a-40f2-bacd-24431a8e82db",
   "metadata": {},
   "outputs": [],
   "source": [
    "import latex2sympy2 as l2s\n",
    "\n",
    "# Define your LaTeX string with macros\n",
    "latex_with_macros = r\"\\newcommand{\\R}{\\mathbb{R}} x + \\R^2\"\n",
    "\n",
    "# Replace macros with their definitions\n",
    "# For example, replace \"\\R\" with \"\\mathbb{R}\"\n",
    "processed_latex = latex_with_macros.replace(r\"\\R\", r\"\\mathbb{R}\")\n",
    "\n",
    "# Convert processed LaTeX to SymPy expression\n",
    "sympy_expr = l2s.latex2sympy(processed_latex)\n",
    "\n",
    "print(\"SymPy Expression:\")\n",
    "print(sympy_expr)\n"
   ]
  },
  {
   "cell_type": "code",
   "execution_count": null,
   "id": "7f1e1860-6b2a-45f6-9807-cb4ca0ecd154",
   "metadata": {},
   "outputs": [],
   "source": [
    "from latex2sympy2 import latex2sympy, latex2latex\n",
    "\n",
    "tex = r\"\\frac{d}{dx}(x^{2}+x)\"\n",
    "# Or you can use '\\mathrm{d}' to replace 'd'\n",
    "latex2sympy(tex)\n",
    "# => \"Derivative(x**2 + x, x)\"\n",
    "#latex2latex(tex)\n",
    "# => \"2 x + 1\""
   ]
  },
  {
   "cell_type": "code",
   "execution_count": null,
   "id": "a040e713-d761-4461-a945-ba727ede6ee8",
   "metadata": {},
   "outputs": [],
   "source": []
  }
 ],
 "metadata": {
  "kernelspec": {
   "display_name": "Python 3 (ipykernel)",
   "language": "python",
   "name": "python3"
  },
  "language_info": {
   "codemirror_mode": {
    "name": "ipython",
    "version": 3
   },
   "file_extension": ".py",
   "mimetype": "text/x-python",
   "name": "python",
   "nbconvert_exporter": "python",
   "pygments_lexer": "ipython3",
   "version": "3.11.6"
  }
 },
 "nbformat": 4,
 "nbformat_minor": 5
}
