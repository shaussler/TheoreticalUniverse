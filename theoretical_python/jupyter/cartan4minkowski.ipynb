{
 "cells": [
  {
   "cell_type": "markdown",
   "id": "080cce64-418c-4192-8588-60b25a19b44a",
   "metadata": {},
   "source": [
    "# pycartan Calculations"
   ]
  },
  {
   "cell_type": "code",
   "execution_count": null,
   "id": "47ad8a79-7174-46a4-813a-51c8082ca742",
   "metadata": {},
   "outputs": [],
   "source": [
    "import pycartan\n",
    "from sympy import symbols, Function"
   ]
  },
  {
   "cell_type": "markdown",
   "id": "aacbe7b0-9284-408c-81aa-2dcafab75db5",
   "metadata": {},
   "source": [
    "## Overwrite the Hodge Star Operator for Minkowski Mixed Metric\n",
    "\n",
    "* https://github.com/TUD-RST/symbtools\n",
    "* https://github.com/TUD-RST/pycartan"
   ]
  },
  {
   "cell_type": "code",
   "execution_count": null,
   "id": "bb0b77e6-e3e2-45d0-8b8e-b675d57cddf8",
   "metadata": {},
   "outputs": [],
   "source": [
    "def minkowski_hodge_star(self):\n",
    "    \n",
    "    \"\"\"\n",
    "    Return the Hodge dual in Minkowski Space\n",
    "    \"\"\"\n",
    "    \n",
    "    all_indices = set(range(self.dim_basis))\n",
    "    result = pycartan.DifferentialForm(self.dim_basis - self.grad, self.basis)\n",
    "\n",
    "    t, x, y, z = 0, 1, 2, 3\n",
    "\n",
    "    if self.degree == 1:\n",
    "        result[(x,y,z)] = + self[(t,)]\n",
    "        result[(t,y,z)] = + self[(x,)]\n",
    "        result[(t,z,x)] = + self[(y,)]\n",
    "        result[(t,x,y)] = + self[(z,)]\n",
    "\n",
    "    if self.degree == 2:\n",
    "        result[(t,x)] = + self[(y,z)]\n",
    "        result[(t,y)] = + self[(z,x)]\n",
    "        result[(t,z)] = + self[(x,y)]\n",
    "        result[(x,y)] = - self[(t,z)]\n",
    "        result[(z,x)] = - self[(t,y)]\n",
    "        result[(y,z)] = - self[(t,x)]\n",
    "\n",
    "    if self.degree == 3:\n",
    "        result[(t,)] = self[(x,y,z)]\n",
    "        result[(x,)] = self[(t,y,z)]\n",
    "        result[(y,)] = self[(t,z,x)]\n",
    "        result[(z,)] = self[(t,x,y)]\n",
    "\n",
    "    if self.degree == 4:\n",
    "        result = - self[(t,x,y,z)]\n",
    "   \n",
    "    return result\n",
    "\n",
    "# pycartan.DifferentialForm.hodge_star = minkowski_hodge_star"
   ]
  },
  {
   "cell_type": "code",
   "execution_count": null,
   "id": "d26b996f-a9aa-4641-924e-d2973ab3c9dd",
   "metadata": {},
   "outputs": [],
   "source": [
    "# Create base 1-forms\n",
    "# -------------------\n",
    "\n",
    "(t, x, y, z), (dt, dx, dy, dz) = pycartan.setup_objects(n=4)\n",
    "\n",
    "t.name='t'\n",
    "x.name='x'\n",
    "y.name='y'\n",
    "z.name='z'\n",
    "\n",
    "(dt^dx^dy^dz).hodge_star()"
   ]
  },
  {
   "cell_type": "code",
   "execution_count": null,
   "id": "af3aea27-960b-40d4-94ce-7cdd2c5000f0",
   "metadata": {},
   "outputs": [],
   "source": [
    "raise Exception(stop)"
   ]
  },
  {
   "cell_type": "code",
   "execution_count": null,
   "id": "1d96cc2b-f907-48dd-977f-063bc79c08d1",
   "metadata": {},
   "outputs": [],
   "source": [
    "import sympy as sp\n",
    "from itertools import combinations\n",
    "\n",
    "def minkowski_init(self, n, basis, coeff=None, name=None):\n",
    "    \"\"\"\n",
    "    :n: degree (e.g. 0-form, 1-form, 2-form, ... )\n",
    "    :basis: list of basis coordinates (Symbols)\n",
    "    :coeff: coefficient vector for initilization (defualt: [0, ..., 0])\n",
    "    :name: optional Name\n",
    "     \"\"\"\n",
    "\n",
    "    self.grad = n\n",
    "    self.basis = sp.Matrix(basis)\n",
    "    self.dim_basis = len(basis)\n",
    "    # list of allowed indices\n",
    "    if (self.grad == 0):\n",
    "        self.indizes = [(0,)]\n",
    "    elif (self.grad == 3):\n",
    "       self.indizes = [(1,2,3), (0,2,3), (0,1,3), (0,1,2)]\n",
    "    else:\n",
    "        # this is a list like [(0,1), (0,2), (0,3), (1,2), (1,3), (2,3)]\n",
    "        #TODO: this should be renamed to index_tuples\n",
    "        self.indizes = list(combinations(list(range(self.dim_basis)), self.grad))\n",
    "\n",
    "    print(\"Marker\", self.indizes)\n",
    "    \n",
    "    # number of coefficient\n",
    "    self.num_coeff = len(self.indizes)\n",
    "\n",
    "    # coefficients of the differential form\n",
    "    if coeff is None:\n",
    "        self.coeff = sp.zeros(self.num_coeff, 1)\n",
    "    else:\n",
    "        assert len(coeff) == self.num_coeff\n",
    "        # TODO: use a row vector here\n",
    "        self.coeff = sp.Matrix(coeff).reshape(self.num_coeff, 1)\n",
    "\n",
    "    self.name = name  # useful for symbtools.make_global\n",
    "\n",
    "# pycartan.DifferentialForm.__init__ = minkowski_init\n",
    "\n",
    "# Create base 1-forms\n",
    "# -------------------\n",
    "\n",
    "# (t, x, y, z), (dt, dx, dy, dz) = pycartan.setup_objects(n=4)\n",
    "\n",
    "# t.name='t'\n",
    "# x.name='x'\n",
    "# y.name='y'\n",
    "# z.name='z'\n",
    "\n",
    "# print(dt.hodge_star())\n",
    "# print(dx.hodge_star())\n",
    "# print(dy.hodge_star())\n",
    "# print(dz.hodge_star())\n",
    "\n"
   ]
  },
  {
   "cell_type": "code",
   "execution_count": null,
   "id": "a58325f5-3097-4970-96d4-54e552479a56",
   "metadata": {},
   "outputs": [],
   "source": []
  },
  {
   "cell_type": "code",
   "execution_count": null,
   "id": "2bca3f1c-6d7c-4541-a086-ac3b5162e4da",
   "metadata": {},
   "outputs": [],
   "source": [
    "def math_output(self):\n",
    "    \n",
    "    math_str = self.to_latex()\n",
    "    math_str = math_str.replace(r'{\\left(', '(')\n",
    "    math_str = math_str.replace(r' \\right)}', ')')\n",
    "    math_str = math_str.replace(r'\\wedge', '∧')\n",
    "    math_str = math_str.replace(r'\\frac{\\partial^{2}}{\\partial t^{2}}', '∂_t^2')\n",
    "    math_str = math_str.replace(r'\\frac{\\partial^{2}}{\\partial x^{2}}', '∂_x^2')\n",
    "    math_str = math_str.replace(r'\\frac{\\partial^{2}}{\\partial y^{2}}', '∂_y^2')\n",
    "    math_str = math_str.replace(r'\\frac{\\partial^{2}}{\\partial z^{2}}', '∂_z^2')\n",
    "    math_str = math_str.replace(r'\\frac{\\partial}{\\partial t}', '∂_t')\n",
    "    math_str = math_str.replace(r'\\frac{\\partial}{\\partial x}', '∂_x')\n",
    "    math_str = math_str.replace(r'\\frac{\\partial}{\\partial y}', '∂_y')\n",
    "    math_str = math_str.replace(r'\\frac{\\partial}{\\partial z}', '∂_z')\n",
    "    math_str = math_str.replace(r'\\frac{\\partial^{2}}{\\partial z\\partial t}', '∂_z ∂_t')\n",
    "    math_str = math_str.replace(r'\\frac{\\partial^{2}}{\\partial z\\partial x}', '∂_z ∂_x')\n",
    "    math_str = math_str.replace(r'\\frac{\\partial^{2}}{\\partial z\\partial y}', '∂_z ∂_y')\n",
    "    math_str = math_str.replace(r'\\frac{\\partial^{2}}{\\partial y\\partial t}', '∂_y ∂_t')\n",
    "    math_str = math_str.replace(r'\\frac{\\partial^{2}}{\\partial x\\partial t}', '∂_x ∂_t')\n",
    "    math_str = math_str.replace(r'\\frac{\\partial^{2}}{\\partial z\\partial t}', '∂_z ∂_t')\n",
    "    math_str = math_str.replace(r'\\frac{\\partial^{2}}{\\partial y\\partial x}', '∂_y ∂_x')\n",
    "    math_str = math_str.replace(r'\\d ', 'd')\n",
    "    math_str = math_str.replace(r'(t,x,y,z)', '')\n",
    "    return math_str\n",
    "\n",
    "pycartan.DifferentialForm.math_output = math_output\n",
    "\n",
    "\n"
   ]
  },
  {
   "cell_type": "code",
   "execution_count": null,
   "id": "5f47d12e-1fcc-4a21-90c2-6ef3ec86b127",
   "metadata": {},
   "outputs": [],
   "source": [
    "from pycartan import perm_parity\n",
    "from sympy.combinatorics import Permutation"
   ]
  },
  {
   "cell_type": "code",
   "execution_count": null,
   "id": "d99653aa-6ad7-4b93-9725-0997c584698a",
   "metadata": {},
   "outputs": [],
   "source": [
    "# perm_parity([2, 3, 0])\n",
    "perm_parity([0, 3, 2])"
   ]
  },
  {
   "cell_type": "code",
   "execution_count": null,
   "id": "18826cf1-56f6-4e68-87ff-109d53e820dc",
   "metadata": {},
   "outputs": [],
   "source": [
    "# Permutation([0, 2])"
   ]
  },
  {
   "cell_type": "markdown",
   "id": "f4339c55-348c-4c75-b6f3-0a6283fc2be1",
   "metadata": {},
   "source": [
    "## Define Fields, Functions, Translations, Rotations, 3-Forms and 4-Volumes"
   ]
  },
  {
   "cell_type": "code",
   "execution_count": null,
   "id": "85296b77-62cd-4918-9535-8e71e5590982",
   "metadata": {},
   "outputs": [],
   "source": [
    "# Create base 1-forms\n",
    "# -------------------\n",
    "\n",
    "(t, x, y, z), (dt, dx, dy, dz) = pycartan.setup_objects(n=4)\n",
    "\n",
    "t.name='t'\n",
    "x.name='x'\n",
    "y.name='y'\n",
    "z.name='z'\n",
    "\n",
    "# Create fields\n",
    "# -------------\n",
    "\n",
    "a = Function('a')(t, x, y, z)\n",
    "b = Function('b')(t, x, y, z)\n",
    "c = Function('c')(t, x, y, z)\n",
    "d = Function('d')(t, x, y, z)\n",
    "e = Function('e')(t, x, y, z)\n",
    "f = Function('f')(t, x, y, z)\n",
    "\n",
    "# Define a zero form\n",
    "# ------------------\n",
    "\n",
    "F = Function('f')(t, x, y, z)\n",
    "\n",
    "# Define rotation\n",
    "# ---------------\n",
    "\n",
    "R = b*(dt^dy)\n",
    "\n",
    "#R = - a*(dt^dx) \\\n",
    "#    - b*(dt^dy) \\\n",
    "#    - c*(dt^dz) \\\n",
    "#    + d*(dy^dz) \\\n",
    "#    + e*(dz^dx) \\\n",
    "#    + f*(dx^dy)\n",
    "\n",
    "# Define translation\n",
    "# ------------------\n",
    "\n",
    "# Signs were not checked\n",
    "\n",
    "# T = + a*(dt) \\\n",
    "#    - b*(dx) \\\n",
    "#    - c*(dy) \\\n",
    "#    - d*(dz)\n",
    "\n",
    "# 3-form\n",
    "# ------\n",
    "\n",
    "# Signs were not checked\n",
    "\n",
    "# F3 = - a*(dx^dy^dz) \\\n",
    "#     + b*(dt^dy^dz) \\\n",
    "#     + c*(dt^dz^dx) \\\n",
    "#     + d*(dt^dx^dy)\n",
    "\n",
    "# 4-form\n",
    "# ------\n",
    "\n",
    "# Signs were not checked\n",
    "\n",
    "# V = a*(dt^dx^dy^dz)"
   ]
  },
  {
   "cell_type": "markdown",
   "id": "8f5a78c7-c2ea-4019-bb0d-5abc281fcebe",
   "metadata": {},
   "source": [
    "## Verify all basis results"
   ]
  },
  {
   "cell_type": "code",
   "execution_count": null,
   "id": "c7af8faa-e132-4cfb-a6c5-39ec50e2f429",
   "metadata": {},
   "outputs": [],
   "source": [
    "print(dt.hodge_star())\n",
    "print(dx.hodge_star())\n",
    "print(dy.hodge_star())\n",
    "print(dz.hodge_star())"
   ]
  },
  {
   "cell_type": "code",
   "execution_count": null,
   "id": "3c43980c-764a-4a81-91d6-e2c941272ce3",
   "metadata": {},
   "outputs": [],
   "source": [
    "dt."
   ]
  },
  {
   "cell_type": "code",
   "execution_count": null,
   "id": "b64a09ce-5ab6-47dc-8c20-8caf22b97d8f",
   "metadata": {},
   "outputs": [],
   "source": [
    "print((dx^dy^dz).hodge_star())\n",
    "print((dt^dy^dz).hodge_star())\n",
    "print((dt^dz^dx).hodge_star())\n",
    "print((dt^dx^dy).hodge_star())"
   ]
  },
  {
   "cell_type": "code",
   "execution_count": null,
   "id": "fb6fd591-cccb-43c3-a3c2-239dd8950c08",
   "metadata": {},
   "outputs": [],
   "source": [
    "print((dt^dx).hodge_star())\n",
    "print((dt^dy).hodge_star())\n",
    "print((dt^dz).hodge_star())\n",
    "print((dx^dy).hodge_star())\n",
    "print((dz^dx).hodge_star())\n",
    "print((dy^dz).hodge_star())"
   ]
  },
  {
   "cell_type": "code",
   "execution_count": null,
   "id": "85018b79-3e63-4233-b5c8-33a01be61f40",
   "metadata": {},
   "outputs": [],
   "source": [
    "val = dt^dx^dy^dz"
   ]
  },
  {
   "cell_type": "code",
   "execution_count": null,
   "id": "1018ddc1-fce5-44f2-8085-6fed464914ad",
   "metadata": {},
   "outputs": [],
   "source": [
    "res = (dt^dx^dy^dz).hodge_star()\n",
    "res.hodge_star()"
   ]
  },
  {
   "cell_type": "code",
   "execution_count": null,
   "id": "182d99cd-6740-47a3-9fee-8ab645d469c5",
   "metadata": {},
   "outputs": [],
   "source": [
    "print((2*dt^dx^dy^dz).hodge_star())"
   ]
  },
  {
   "cell_type": "markdown",
   "id": "22258f12-850c-415e-a0f6-ea93fbf5ffa9",
   "metadata": {},
   "source": [
    " ## Verify with Calculations Done by Hand"
   ]
  },
  {
   "cell_type": "code",
   "execution_count": null,
   "id": "5d686b3f-674f-407a-84c7-5f67a597b206",
   "metadata": {},
   "outputs": [],
   "source": [
    "R.hodge_star().math_output()"
   ]
  },
  {
   "cell_type": "code",
   "execution_count": null,
   "id": "586bfb73-5d9b-400f-a9b3-6398a591788f",
   "metadata": {},
   "outputs": [],
   "source": [
    "(R.d).hodge_star().math_output()"
   ]
  },
  {
   "cell_type": "code",
   "execution_count": null,
   "id": "056b5ad3-1325-4d30-9767-75bc5b397818",
   "metadata": {},
   "outputs": [],
   "source": [
    "(R.hodge_star()).d.math_output()"
   ]
  },
  {
   "cell_type": "markdown",
   "id": "d6bb19d0-90f6-484a-9939-c08b8ec4fa0b",
   "metadata": {},
   "source": [
    "## Rotations"
   ]
  },
  {
   "cell_type": "markdown",
   "id": "395e15c6-c468-4835-9fc3-fa960d06a6b4",
   "metadata": {},
   "source": [
    "### Divergence ⋆ d ⋆"
   ]
  },
  {
   "cell_type": "code",
   "execution_count": null,
   "id": "7862881e-b4f7-4f18-831a-cb204b76a1d7",
   "metadata": {},
   "outputs": [],
   "source": [
    "R.hodge_star().d.hodge_star().math_output()"
   ]
  },
  {
   "cell_type": "markdown",
   "id": "22013cce-5a0d-426b-b83a-aef66bf5271b",
   "metadata": {},
   "source": [
    "### Curl ⋆ d"
   ]
  },
  {
   "cell_type": "markdown",
   "id": "88f5b5af-fcb6-4a8f-a9a4-8d8ee3184936",
   "metadata": {},
   "source": [
    "### Laplace-De Rham (d ⋆ d ⋆ + ⋆ d ⋆ d)"
   ]
  },
  {
   "cell_type": "markdown",
   "id": "6f57b1e6-4c2b-4316-bbc4-58d8a93163cd",
   "metadata": {},
   "source": [
    "### Maxwell d ⋆ - ⋆ d"
   ]
  },
  {
   "cell_type": "markdown",
   "id": "befb673a-a4d3-4a5e-bacc-0d2e905a504b",
   "metadata": {},
   "source": [
    "## Translations"
   ]
  },
  {
   "cell_type": "markdown",
   "id": "bde6c3a7-5f96-4080-857a-7c3569c07e9b",
   "metadata": {},
   "source": [
    "### Gradiant d"
   ]
  },
  {
   "cell_type": "code",
   "execution_count": null,
   "id": "10186c37-dd36-4954-95dc-360f7e4cfafe",
   "metadata": {},
   "outputs": [],
   "source": [
    "T.d.math_output()"
   ]
  },
  {
   "cell_type": "markdown",
   "id": "29cc6122-223f-4434-a992-7936dbace94f",
   "metadata": {},
   "source": [
    "### Divergence ⋆ d ⋆"
   ]
  },
  {
   "cell_type": "code",
   "execution_count": null,
   "id": "f65d87b1-9435-46a1-8103-19e642ea9c68",
   "metadata": {},
   "outputs": [],
   "source": [
    "T.hodge_star().d.hodge_star()"
   ]
  },
  {
   "cell_type": "markdown",
   "id": "1f82029f-acfd-4e48-9451-cdac6b4209db",
   "metadata": {},
   "source": [
    "### Curl ⋆ d"
   ]
  },
  {
   "cell_type": "code",
   "execution_count": null,
   "id": "805756ed-cd7d-439d-9aef-ac401f2acf19",
   "metadata": {},
   "outputs": [],
   "source": [
    "T.d.hodge_star().math_output()"
   ]
  },
  {
   "cell_type": "markdown",
   "id": "d078dc37-f918-484d-9ab1-34d06a338bf1",
   "metadata": {},
   "source": [
    "### Laplace-De Rham (d ⋆ d ⋆ + ⋆ d ⋆ d)"
   ]
  },
  {
   "cell_type": "code",
   "execution_count": null,
   "id": "3899f1a4-669a-4f1d-8366-4cf2f6da4a34",
   "metadata": {},
   "outputs": [],
   "source": [
    "#(T.hodge_star().d - T.d.hodge_star()).math_output()"
   ]
  },
  {
   "cell_type": "markdown",
   "id": "acbccf77-209d-4e07-89ab-0f7d1fe00476",
   "metadata": {},
   "source": [
    "## Experiments"
   ]
  },
  {
   "cell_type": "code",
   "execution_count": null,
   "id": "fac24b6c-cf87-430d-ad94-f20f935f9449",
   "metadata": {},
   "outputs": [],
   "source": [
    "laplace_de_rham = F3.hodge_star().d.hodge_star().d + F3.d.hodge_star().d.hodge_star()\n",
    "laplace_de_rham.math_output()"
   ]
  },
  {
   "cell_type": "code",
   "execution_count": null,
   "id": "d79c0372-7c0b-4c96-94bd-77b83f2e7c42",
   "metadata": {},
   "outputs": [],
   "source": [
    "F3.hodge_star().d.math_output()"
   ]
  },
  {
   "cell_type": "code",
   "execution_count": null,
   "id": "8febc13f-c87f-4b6e-837b-5fc8f89da5b2",
   "metadata": {},
   "outputs": [],
   "source": [
    "F3.d.math_output()"
   ]
  },
  {
   "cell_type": "code",
   "execution_count": null,
   "id": "ac268497-109f-4f8a-8595-fe1bd2da3a57",
   "metadata": {},
   "outputs": [],
   "source": []
  }
 ],
 "metadata": {
  "kernelspec": {
   "display_name": "Python 3 (ipykernel)",
   "language": "python",
   "name": "python3"
  },
  "language_info": {
   "codemirror_mode": {
    "name": "ipython",
    "version": 3
   },
   "file_extension": ".py",
   "mimetype": "text/x-python",
   "name": "python",
   "nbconvert_exporter": "python",
   "pygments_lexer": "ipython3",
   "version": "3.12.8"
  }
 },
 "nbformat": 4,
 "nbformat_minor": 5
}
