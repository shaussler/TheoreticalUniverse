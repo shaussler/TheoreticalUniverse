{
 "cells": [
  {
   "cell_type": "markdown",
   "id": "080cce64-418c-4192-8588-60b25a19b44a",
   "metadata": {},
   "source": [
    "# pycartan Calculations"
   ]
  },
  {
   "cell_type": "code",
   "execution_count": null,
   "id": "47ad8a79-7174-46a4-813a-51c8082ca742",
   "metadata": {},
   "outputs": [],
   "source": [
    "import pycartan\n",
    "from sympy import symbols, Function"
   ]
  },
  {
   "cell_type": "code",
   "execution_count": null,
   "id": "f952e5f7-9c1e-4d81-b328-ff500b0a63aa",
   "metadata": {},
   "outputs": [],
   "source": [
    "import IPython.core.completer\n",
    "IPython.core.completer.latex_symbols[r'\\otimes'] = '⊗'\n",
    "IPython.core.completer.latex_symbols[f'\\nabla'] =  '∇'\n",
    "IPython.core.completer.latex_symbols[f'\\laplacian'] = '∆'\n",
    "IPython.core.completer.latex_symbols[f'\\partial'] = '∂'\n",
    "IPython.core.completer.latex_symbols[f'\\star'] = '⋆'\n",
    "IPython.core.completer.latex_symbols[f'\\wedge'] = '∧'\n",
    "IPython.core.completer.latex_symbols[f'\\vee'] = '∨'\n",
    "IPython.core.completer.latex_symbols[f'\\otimes'] = '⊗'\n",
    "IPython.core.completer.latex_symbols[f'\\times'] = '⨯'\n",
    "IPython.core.completer.latex_symbols[f'\\flat'] = '♭'\n",
    "IPython.core.completer.latex_symbols[f'\\sharp'] = '♯'"
   ]
  },
  {
   "cell_type": "markdown",
   "id": "aacbe7b0-9284-408c-81aa-2dcafab75db5",
   "metadata": {},
   "source": [
    "## Overwrite the Hodge Star Operator for Minkowski Mixed Metric\n",
    "\n",
    "* https://github.com/TUD-RST/symbtools\n",
    "* https://github.com/TUD-RST/pycartan"
   ]
  },
  {
   "cell_type": "code",
   "execution_count": null,
   "id": "bb0b77e6-e3e2-45d0-8b8e-b675d57cddf8",
   "metadata": {},
   "outputs": [],
   "source": [
    "def minkowski_hodge_star(self):\n",
    "    \n",
    "    \"\"\"\n",
    "    Return the Hodge dual in Minkowski Space\n",
    "    \"\"\"\n",
    "    \n",
    "    all_indices = set(range(self.dim_basis))\n",
    "    result = pycartan.DifferentialForm(self.dim_basis - self.grad, self.basis)\n",
    "\n",
    "    t, x, y, z = 0, 1, 2, 3\n",
    "\n",
    "    if self.degree == 1:\n",
    "        result[(x,y,z)] = (-1)*self[(t,)]\n",
    "        result[(t,y,z)] = (-1)*self[(x,)]\n",
    "        result[(t,z,x)] = (-1)*self[(y,)]\n",
    "        result[(t,x,y)] = (-1)*self[(z,)]\n",
    "\n",
    "    if self.degree == 2:\n",
    "        result[(t,x)] = (+1)*self[(y,z)]\n",
    "        result[(t,y)] = (-1)*self[(x,z)]\n",
    "        result[(t,z)] = (+1)*self[(x,y)]\n",
    "        result[(x,y)] = (-1)*self[(t,z)]\n",
    "        result[(x,z)] = (+1)*self[(t,y)]\n",
    "        result[(y,z)] = (-1)*self[(t,x)]\n",
    "\n",
    "    if self.degree == 3:\n",
    "        result[(t,)]=-self[(x,y,z)]\n",
    "        result[(x,)]=-self[(t,y,z)]\n",
    "        result[(y,)]=-self[(t,z,x)]\n",
    "        result[(z,)]=-self[(t,x,y)]\n",
    "\n",
    "    return result\n",
    "\n",
    "pycartan.DifferentialForm.hodge_star = minkowski_hodge_star"
   ]
  },
  {
   "cell_type": "code",
   "execution_count": null,
   "id": "2bca3f1c-6d7c-4541-a086-ac3b5162e4da",
   "metadata": {},
   "outputs": [],
   "source": [
    "def math_output(self):\n",
    "    \n",
    "    math_str = self.to_latex()\n",
    "    math_str = math_str.replace(r'{\\left(', '(')\n",
    "    math_str = math_str.replace(r' \\right)}', ')')\n",
    "    math_str = math_str.replace(r'\\wedge', '∧')\n",
    "    math_str = math_str.replace(r'\\frac{\\partial^{2}}{\\partial t^{2}}', '∂_t^2')\n",
    "    math_str = math_str.replace(r'\\frac{\\partial^{2}}{\\partial x^{2}}', '∂_x^2')\n",
    "    math_str = math_str.replace(r'\\frac{\\partial^{2}}{\\partial y^{2}}', '∂_y^2')\n",
    "    math_str = math_str.replace(r'\\frac{\\partial^{2}}{\\partial z^{2}}', '∂_z^2')\n",
    "    math_str = math_str.replace(r'\\frac{\\partial}{\\partial t}', '∂_t')\n",
    "    math_str = math_str.replace(r'\\frac{\\partial}{\\partial x}', '∂_x')\n",
    "    math_str = math_str.replace(r'\\frac{\\partial}{\\partial y}', '∂_y')\n",
    "    math_str = math_str.replace(r'\\frac{\\partial}{\\partial z}', '∂_z')\n",
    "    math_str = math_str.replace(r'\\frac{\\partial^{2}}{\\partial z\\partial t}', '∂_z ∂_t')\n",
    "    math_str = math_str.replace(r'\\frac{\\partial^{2}}{\\partial z\\partial x}', '∂_z ∂_x')\n",
    "    math_str = math_str.replace(r'\\frac{\\partial^{2}}{\\partial z\\partial y}', '∂_z ∂_y')\n",
    "    math_str = math_str.replace(r'\\frac{\\partial^{2}}{\\partial y\\partial t}', '∂_y ∂_t')\n",
    "    math_str = math_str.replace(r'\\frac{\\partial^{2}}{\\partial x\\partial t}', '∂_x ∂_t')\n",
    "    math_str = math_str.replace(r'\\frac{\\partial^{2}}{\\partial z\\partial t}', '∂_z ∂_t')\n",
    "    math_str = math_str.replace(r'\\frac{\\partial^{2}}{\\partial y\\partial x}', '∂_y ∂_x')\n",
    "    math_str = math_str.replace(r'\\d ', 'd')\n",
    "    math_str = math_str.replace(r'(t,x,y,z)', '')\n",
    "    return math_str\n",
    "\n",
    "pycartan.DifferentialForm.math_output = math_output"
   ]
  },
  {
   "cell_type": "markdown",
   "id": "f4339c55-348c-4c75-b6f3-0a6283fc2be1",
   "metadata": {},
   "source": [
    "## Define Fields, Functions, Translations, Rotations, 3-Forms and 4-Volumes"
   ]
  },
  {
   "cell_type": "code",
   "execution_count": null,
   "id": "85296b77-62cd-4918-9535-8e71e5590982",
   "metadata": {},
   "outputs": [],
   "source": [
    "# Create base 1-forms\n",
    "# -------------------\n",
    "\n",
    "(t, x, y, z), (dt, dx, dy, dz) = pycartan.setup_objects(n=4)\n",
    "\n",
    "t.name='t'\n",
    "x.name='x'\n",
    "y.name='y'\n",
    "z.name='z'\n",
    "\n",
    "# Create fields\n",
    "# -------------\n",
    "\n",
    "a = Function('a')(t, x, y, z)\n",
    "b = Function('b')(t, x, y, z)\n",
    "c = Function('c')(t, x, y, z)\n",
    "d = Function('d')(t, x, y, z)\n",
    "e = Function('e')(t, x, y, z)\n",
    "f = Function('f')(t, x, y, z)\n",
    "\n",
    "# Define a zero form\n",
    "# ------------------\n",
    "\n",
    "F = Function('f')(t, x, y, z)\n",
    "\n",
    "# Define rotation\n",
    "# ---------------\n",
    "\n",
    "R = - a*(dt^dx) \\\n",
    "    - b*(dt^dy) \\\n",
    "    - c*(dt^dz) \\\n",
    "    + d*(dy^dz) \\\n",
    "    + e*(dz^dx) \\\n",
    "    + f*(dx^dy)\n",
    "\n",
    "# Define translation\n",
    "# ------------------\n",
    "\n",
    "# Signs were not checked\n",
    "\n",
    "T = + a*(dt) \\\n",
    "    - b*(dx) \\\n",
    "    - c*(dy) \\\n",
    "    - d*(dz)\n",
    "\n",
    "# 3-form\n",
    "# ------\n",
    "\n",
    "# Signs were not checked\n",
    "\n",
    "F3 = - a*(dx^dy^dz) \\\n",
    "     + b*(dt^dy^dz) \\\n",
    "     + c*(dt^dz^dx) \\\n",
    "     + d*(dt^dx^dy)\n",
    "\n",
    "# 4-form\n",
    "# ------\n",
    "\n",
    "# Signs were not checked\n",
    "\n",
    "V = a*(dt^dx^dy^dz)"
   ]
  },
  {
   "cell_type": "markdown",
   "id": "8f5a78c7-c2ea-4019-bb0d-5abc281fcebe",
   "metadata": {},
   "source": [
    "## Verify all basis results"
   ]
  },
  {
   "cell_type": "code",
   "execution_count": null,
   "id": "c7af8faa-e132-4cfb-a6c5-39ec50e2f429",
   "metadata": {},
   "outputs": [],
   "source": [
    "print(dt.hodge_star())\n",
    "print(dx.hodge_star())\n",
    "print(dy.hodge_star())\n",
    "print(dz.hodge_star())"
   ]
  },
  {
   "cell_type": "code",
   "execution_count": null,
   "id": "b64a09ce-5ab6-47dc-8c20-8caf22b97d8f",
   "metadata": {},
   "outputs": [],
   "source": [
    "print((dx^dy^dz).hodge_star())\n",
    "print((dt^dy^dz).hodge_star())\n",
    "print((dt^dz^dx).hodge_star())\n",
    "print((dt^dx^dy).hodge_star())"
   ]
  },
  {
   "cell_type": "code",
   "execution_count": null,
   "id": "fb6fd591-cccb-43c3-a3c2-239dd8950c08",
   "metadata": {},
   "outputs": [],
   "source": [
    "print((dt^dx).hodge_star())\n",
    "print((dt^dy).hodge_star())\n",
    "print((dt^dz).hodge_star())\n",
    "print((dx^dy).hodge_star())\n",
    "print((dz^dx).hodge_star())\n",
    "print((dy^dz).hodge_star())"
   ]
  },
  {
   "cell_type": "markdown",
   "id": "22258f12-850c-415e-a0f6-ea93fbf5ffa9",
   "metadata": {},
   "source": [
    " ## Verify with Calculations Done by Hand"
   ]
  },
  {
   "cell_type": "code",
   "execution_count": null,
   "id": "5d686b3f-674f-407a-84c7-5f67a597b206",
   "metadata": {},
   "outputs": [],
   "source": [
    "R.hodge_star().math_output()"
   ]
  },
  {
   "cell_type": "code",
   "execution_count": null,
   "id": "586bfb73-5d9b-400f-a9b3-6398a591788f",
   "metadata": {},
   "outputs": [],
   "source": [
    "(R.d).hodge_star().math_output()"
   ]
  },
  {
   "cell_type": "code",
   "execution_count": null,
   "id": "056b5ad3-1325-4d30-9767-75bc5b397818",
   "metadata": {},
   "outputs": [],
   "source": [
    "(R.hodge_star()).d.math_output()"
   ]
  },
  {
   "cell_type": "markdown",
   "id": "d6bb19d0-90f6-484a-9939-c08b8ec4fa0b",
   "metadata": {},
   "source": [
    "## Rotations"
   ]
  },
  {
   "cell_type": "markdown",
   "id": "395e15c6-c468-4835-9fc3-fa960d06a6b4",
   "metadata": {},
   "source": [
    "### Divergence ⋆ d ⋆"
   ]
  },
  {
   "cell_type": "code",
   "execution_count": null,
   "id": "7862881e-b4f7-4f18-831a-cb204b76a1d7",
   "metadata": {},
   "outputs": [],
   "source": [
    "R.hodge_star().d.hodge_star().math_output()"
   ]
  },
  {
   "cell_type": "markdown",
   "id": "22013cce-5a0d-426b-b83a-aef66bf5271b",
   "metadata": {},
   "source": [
    "### Curl ⋆ d"
   ]
  },
  {
   "cell_type": "markdown",
   "id": "88f5b5af-fcb6-4a8f-a9a4-8d8ee3184936",
   "metadata": {},
   "source": [
    "### Laplace-De Rham (d ⋆ d ⋆ + ⋆ d ⋆ d)"
   ]
  },
  {
   "cell_type": "markdown",
   "id": "6f57b1e6-4c2b-4316-bbc4-58d8a93163cd",
   "metadata": {},
   "source": [
    "### Maxwell d ⋆ - ⋆ d"
   ]
  },
  {
   "cell_type": "markdown",
   "id": "befb673a-a4d3-4a5e-bacc-0d2e905a504b",
   "metadata": {},
   "source": [
    "## Translations"
   ]
  },
  {
   "cell_type": "markdown",
   "id": "bde6c3a7-5f96-4080-857a-7c3569c07e9b",
   "metadata": {},
   "source": [
    "### Gradiant d"
   ]
  },
  {
   "cell_type": "code",
   "execution_count": null,
   "id": "10186c37-dd36-4954-95dc-360f7e4cfafe",
   "metadata": {},
   "outputs": [],
   "source": [
    "T.d.math_output()"
   ]
  },
  {
   "cell_type": "markdown",
   "id": "29cc6122-223f-4434-a992-7936dbace94f",
   "metadata": {},
   "source": [
    "### Divergence ⋆ d ⋆"
   ]
  },
  {
   "cell_type": "code",
   "execution_count": null,
   "id": "f65d87b1-9435-46a1-8103-19e642ea9c68",
   "metadata": {},
   "outputs": [],
   "source": [
    "T.hodge_star().d.hodge_star()"
   ]
  },
  {
   "cell_type": "markdown",
   "id": "1f82029f-acfd-4e48-9451-cdac6b4209db",
   "metadata": {},
   "source": [
    "### Curl ⋆ d"
   ]
  },
  {
   "cell_type": "code",
   "execution_count": null,
   "id": "805756ed-cd7d-439d-9aef-ac401f2acf19",
   "metadata": {},
   "outputs": [],
   "source": [
    "T.d.hodge_star().math_output()"
   ]
  },
  {
   "cell_type": "markdown",
   "id": "d078dc37-f918-484d-9ab1-34d06a338bf1",
   "metadata": {},
   "source": [
    "### Laplace-De Rham (d ⋆ d ⋆ + ⋆ d ⋆ d)"
   ]
  },
  {
   "cell_type": "code",
   "execution_count": null,
   "id": "3899f1a4-669a-4f1d-8366-4cf2f6da4a34",
   "metadata": {},
   "outputs": [],
   "source": [
    "#(T.hodge_star().d - T.d.hodge_star()).math_output()"
   ]
  },
  {
   "cell_type": "markdown",
   "id": "acbccf77-209d-4e07-89ab-0f7d1fe00476",
   "metadata": {},
   "source": [
    "## Experiments"
   ]
  },
  {
   "cell_type": "code",
   "execution_count": null,
   "id": "fac24b6c-cf87-430d-ad94-f20f935f9449",
   "metadata": {},
   "outputs": [],
   "source": [
    "laplace_de_rham = F3.hodge_star().d.hodge_star().d + F3.d.hodge_star().d.hodge_star()\n",
    "laplace_de_rham.math_output()"
   ]
  },
  {
   "cell_type": "code",
   "execution_count": null,
   "id": "d79c0372-7c0b-4c96-94bd-77b83f2e7c42",
   "metadata": {},
   "outputs": [],
   "source": [
    "F3.hodge_star().d.math_output()"
   ]
  },
  {
   "cell_type": "code",
   "execution_count": null,
   "id": "8febc13f-c87f-4b6e-837b-5fc8f89da5b2",
   "metadata": {},
   "outputs": [],
   "source": [
    "F3.d.math_output()"
   ]
  }
 ],
 "metadata": {
  "kernelspec": {
   "display_name": "Python 3 (ipykernel)",
   "language": "python",
   "name": "python3"
  },
  "language_info": {
   "codemirror_mode": {
    "name": "ipython",
    "version": 3
   },
   "file_extension": ".py",
   "mimetype": "text/x-python",
   "name": "python",
   "nbconvert_exporter": "python",
   "pygments_lexer": "ipython3",
   "version": "3.11.8"
  }
 },
 "nbformat": 4,
 "nbformat_minor": 5
}
