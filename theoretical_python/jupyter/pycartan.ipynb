{
 "cells": [
  {
   "cell_type": "code",
   "execution_count": null,
   "id": "a0dcdbb8-5b53-42a3-9a4e-c2f115b3b1a7",
   "metadata": {},
   "outputs": [],
   "source": [
    "import pycartan\n",
    "from sympy import symbols, Function\n",
    "\n",
    "import IPython.core.completer\n",
    "IPython.core.completer.latex_symbols[r'\\otimes'] = '⊗'\n",
    "IPython.core.completer.latex_symbols[f'\\nabla'] =  '∇'\n",
    "IPython.core.completer.latex_symbols[f'\\laplacian'] = '∆'\n",
    "IPython.core.completer.latex_symbols[f'\\partial'] = '∂'\n",
    "IPython.core.completer.latex_symbols[f'\\star'] = '⋆'\n",
    "IPython.core.completer.latex_symbols[f'\\wedge'] = '∧'\n",
    "IPython.core.completer.latex_symbols[f'\\vee'] = '∨'\n",
    "IPython.core.completer.latex_symbols[f'\\otimes'] = '⊗'\n",
    "IPython.core.completer.latex_symbols[f'\\times'] = '⨯'\n",
    "IPython.core.completer.latex_symbols[f'\\flat'] = '♭'\n",
    "IPython.core.completer.latex_symbols[f'\\sharp'] = '♯'"
   ]
  },
  {
   "cell_type": "code",
   "execution_count": null,
   "id": "249b380e-b371-40f7-b100-9b0b479120ae",
   "metadata": {},
   "outputs": [],
   "source": [
    "# Create base 1-forms\n",
    "# -------------------\n",
    "\n",
    "(t, x, y, z), (dt, dx, dy, dz) = pycartan.setup_objects(n=4)\n",
    "\n",
    "t.name='t'\n",
    "x.name='x'\n",
    "y.name='y'\n",
    "z.name='z'\n",
    "\n",
    "# Create fields\n",
    "# -------------\n",
    "\n",
    "a = Function('a')(t, x, y, z)\n",
    "b = Function('b')(t, x, y, z)\n",
    "c = Function('c')(t, x, y, z)\n",
    "d = Function('d')(t, x, y, z)\n",
    "e = Function('e')(t, x, y, z)\n",
    "f = Function('f')(t, x, y, z)"
   ]
  },
  {
   "cell_type": "code",
   "execution_count": null,
   "id": "a241356f-65c0-4814-b470-302fab2b3d2d",
   "metadata": {},
   "outputs": [],
   "source": [
    "# Define rotation\n",
    "# ---------------\n",
    "\n",
    "R = - a*(dt^dx) \\\n",
    "    - b*(dt^dy) \\\n",
    "    - c*(dt^dz) \\\n",
    "    + d*(dy^dz) \\\n",
    "    + e*(dz^dx) \\\n",
    "    + f*(dx^dy)\n",
    "\n",
    "# Calculate the exterior derivative\n",
    "# ---------------------------------\n",
    "\n",
    "# dR = R.d\n",
    "\n",
    "# Calculate the Hodge star\n",
    "# ------------------------\n",
    "\n",
    "#star_dR = dR.hodge_star(metric='Minkowski')\n",
    "\n",
    "#star_dR\n",
    "\n",
    "R.hodge_star(metric='Minkowski')"
   ]
  },
  {
   "cell_type": "code",
   "execution_count": null,
   "id": "beb69e38-e60a-4102-ac24-612f4030e516",
   "metadata": {},
   "outputs": [],
   "source": [
    "print(R.basis)\n",
    "#print(R.coeff)"
   ]
  },
  {
   "cell_type": "code",
   "execution_count": null,
   "id": "087f14da-feed-4ce9-b00c-8e827bf6d5ac",
   "metadata": {},
   "outputs": [],
   "source": [
    "def format_math(math_str):\n",
    "    \n",
    "    math_str = math_str.replace(r'{\\left(', '(')\n",
    "    math_str = math_str.replace(r' \\right)}', ')')\n",
    "    math_str = math_str.replace(r'\\frac{\\partial}{\\partial t}', '∂_t')\n",
    "    math_str = math_str.replace(r'\\frac{\\partial}{\\partial x}', '∂_x')\n",
    "    math_str = math_str.replace(r'\\frac{\\partial}{\\partial y}', '∂_y')\n",
    "    math_str = math_str.replace(r'\\frac{\\partial}{\\partial z}', '∂_z')\n",
    "    math_str = math_str.replace(r'\\d ', 'd')\n",
    "    math_str = math_str.replace(r'(t,x,y,z)', '')\n",
    "    return math_str\n",
    "\n",
    "print(format_math(star_dR.to_latex()))"
   ]
  },
  {
   "cell_type": "code",
   "execution_count": null,
   "id": "03ee715a-b8d7-49e3-8afd-bcb84238db89",
   "metadata": {},
   "outputs": [],
   "source": [
    "star_dR.c"
   ]
  },
  {
   "cell_type": "code",
   "execution_count": null,
   "id": "9aa4c2e5-81b7-4a93-889d-71547836a896",
   "metadata": {},
   "outputs": [],
   "source": []
  },
  {
   "cell_type": "code",
   "execution_count": null,
   "id": "0ef24c05-dced-4177-b9a0-7c4b5fd40a01",
   "metadata": {},
   "outputs": [],
   "source": [
    "# create base 1-forms\n",
    "(x1, x2, x3), (dx1, dx2, dx3) = pc.setup_objects(3)\n",
    "\n",
    "f = Function('f')(x1,x2,x3)\n",
    "\n",
    "myform = f*dx1^dx2\n",
    "myform.d\n",
    "\n",
    "# a = Function('a')(t, x, y, z)\n",
    "# b = Function('b')(t, x, y, z)\n",
    "# c = Function('c')(t, x, y, z)\n",
    "# d = Function('d')(t, x, y, z)\n",
    "# e = Function('e')(t, x, y, z)\n",
    "# f = Function('f')(t, x, y, z)"
   ]
  },
  {
   "cell_type": "code",
   "execution_count": null,
   "id": "6be0718c-bcba-4528-9f85-22738b5779e2",
   "metadata": {},
   "outputs": [],
   "source": [
    "# create base 1-forms\n",
    "(x, y, z), (dx, dy, dz) = pc.setup_objects(3)\n",
    "\n",
    "f = Function('f')(x,y,z)\n",
    "\n",
    "myform = f*dx^dy\n",
    "myform.d"
   ]
  },
  {
   "cell_type": "code",
   "execution_count": null,
   "id": "73dea228-082b-46fc-bf8f-b1f1569c59df",
   "metadata": {},
   "outputs": [],
   "source": [
    "# create base 1-forms\n",
    "(t, x, y, z), (dt, dx, dy, dz) = pc.setup_objects(4)\n",
    "\n",
    "f = Function('f')(t, x, y, z)\n",
    "g = Function('g')(t, x, y, z)\n",
    "\n",
    "myform = -f*dx^dy + -g*dt^dz\n",
    "myform.d"
   ]
  },
  {
   "cell_type": "code",
   "execution_count": null,
   "id": "7228329b-0166-4a03-bedf-15035f1806d8",
   "metadata": {},
   "outputs": [],
   "source": [
    "from sympy import pprint, symbols\n",
    "\n",
    "# Define symbols\n",
    "x, y = symbols('x y')\n",
    "\n",
    "# Define an expression\n",
    "expr = x**2 + y**2\n",
    "\n",
    "# Pretty print the expression\n",
    "pprint(expr)\n"
   ]
  },
  {
   "cell_type": "code",
   "execution_count": null,
   "id": "2f93932e-bdfb-4ef5-b743-43bd93ed5ec6",
   "metadata": {},
   "outputs": [],
   "source": [
    "expr"
   ]
  }
 ],
 "metadata": {
  "kernelspec": {
   "display_name": "Python 3 (ipykernel)",
   "language": "python",
   "name": "python3"
  },
  "language_info": {
   "codemirror_mode": {
    "name": "ipython",
    "version": 3
   },
   "file_extension": ".py",
   "mimetype": "text/x-python",
   "name": "python",
   "nbconvert_exporter": "python",
   "pygments_lexer": "ipython3",
   "version": "3.11.8"
  }
 },
 "nbformat": 4,
 "nbformat_minor": 5
}
