{
 "cells": [
  {
   "cell_type": "code",
   "execution_count": null,
   "id": "53344bd3-9e7e-4a94-b508-aa851305b2a9",
   "metadata": {},
   "outputs": [],
   "source": [
    "from sympy.core import symbols"
   ]
  },
  {
   "cell_type": "code",
   "execution_count": null,
   "id": "7ddf6524-beb2-424a-aa80-cc15d163c6c5",
   "metadata": {},
   "outputs": [],
   "source": [
    "from sympy import Function\n",
    "from sympy.diffgeom import Manifold, Patch, CoordSystem, WedgeProduct, Differential, BaseScalarField\n",
    "from sympy import pprint"
   ]
  },
  {
   "cell_type": "code",
   "execution_count": null,
   "id": "df43edb7-80ac-4d5b-a25c-2efe390b5a54",
   "metadata": {},
   "outputs": [],
   "source": [
    "t, x, y, z = symbols('t x y z', real=True)\n",
    "\n",
    "m = Manifold('M', 4)\n",
    "p = Patch('P', m)\n",
    "c = CoordSystem(name='C', patch=p, symbols=[t, x, y, z])"
   ]
  },
  {
   "cell_type": "code",
   "execution_count": null,
   "id": "d392e826-c44e-4434-bf1d-0233cd907bec",
   "metadata": {},
   "outputs": [],
   "source": [
    "ft, fx, fy, fz = c.base_scalars()\n",
    "et, ex, ey, ez = c.base_vectors()\n",
    "dt, dx, dy, dz = c.base_oneforms()\n",
    "\n",
    "g = Function('g')\n",
    "s_field = g(fx, fy)\n",
    "\n",
    "form = s_field*dt + WedgeProduct(dt, dx) + WedgeProduct(dt, dx)\n",
    "\n",
    "form"
   ]
  },
  {
   "cell_type": "markdown",
   "id": "059c1cf6-f9dc-4025-be02-a18696d5b4f1",
   "metadata": {},
   "source": []
  },
  {
   "cell_type": "code",
   "execution_count": null,
   "id": "bb1cf54f-f3a8-4990-95da-9dc1212deaf8",
   "metadata": {},
   "outputs": [],
   "source": [
    "Differential(s_field)"
   ]
  },
  {
   "cell_type": "code",
   "execution_count": null,
   "id": "5d59c224-1286-4651-bcd5-49f727933a3a",
   "metadata": {},
   "outputs": [],
   "source": [
    "result = Differential(form)\n",
    "result\n"
   ]
  },
  {
   "cell_type": "code",
   "execution_count": null,
   "id": "1a6d5c01-f46b-4244-bbd3-1a96ea534e71",
   "metadata": {},
   "outputs": [],
   "source": [
    "result.expand()"
   ]
  },
  {
   "cell_type": "code",
   "execution_count": null,
   "id": "d7f704fc-b4b3-49c5-94d0-5273c6b15693",
   "metadata": {},
   "outputs": [],
   "source": [
    "result.nsimplify()"
   ]
  },
  {
   "cell_type": "code",
   "execution_count": null,
   "id": "db5707f0-cd8e-454e-8e01-3b42353d0cd5",
   "metadata": {},
   "outputs": [],
   "source": [
    "from sympy import expand, simplify\n",
    "expand(result)"
   ]
  },
  {
   "cell_type": "code",
   "execution_count": null,
   "id": "c8b23ff2-8539-4473-8194-80561fb77b2e",
   "metadata": {},
   "outputs": [],
   "source": [
    "from sympy.diffgeom.rn import R2_r\n",
    "\n",
    "fx, fy = R2_r.base_scalars()\n",
    "e_x, e_y = R2_r.base_vectors()\n",
    "g = Function('g')\n",
    "s_field = g(fx, fy)\n",
    "dg = Differential(s_field)"
   ]
  },
  {
   "cell_type": "code",
   "execution_count": null,
   "id": "437d1710-e971-496d-b84c-0a9c9fa3bfa7",
   "metadata": {},
   "outputs": [],
   "source": [
    "fx, fy = R2_r.base_scalars()\n",
    "e_x, e_y = R2_r.base_vectors()\n",
    "g = Function('g')\n",
    "s_field = g(fx, fy)\n",
    "dg = Differential(s_field)"
   ]
  },
  {
   "cell_type": "code",
   "execution_count": null,
   "id": "1e4227fa-d15b-4ff1-a3d1-53fb1d9403de",
   "metadata": {},
   "outputs": [],
   "source": [
    "dg(e_x)"
   ]
  }
 ],
 "metadata": {
  "kernelspec": {
   "display_name": "Python 3 (ipykernel)",
   "language": "python",
   "name": "python3"
  },
  "language_info": {
   "codemirror_mode": {
    "name": "ipython",
    "version": 3
   },
   "file_extension": ".py",
   "mimetype": "text/x-python",
   "name": "python",
   "nbconvert_exporter": "python",
   "pygments_lexer": "ipython3",
   "version": "3.11.8"
  }
 },
 "nbformat": 4,
 "nbformat_minor": 5
}
